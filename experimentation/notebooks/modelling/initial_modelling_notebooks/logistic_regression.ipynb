{
 "cells": [
  {
   "cell_type": "markdown",
   "metadata": {},
   "source": [
    "# Logistic Regression"
   ]
  },
  {
   "cell_type": "code",
   "execution_count": 1,
   "metadata": {},
   "outputs": [],
   "source": [
    "from sklearn.linear_model import LogisticRegression\n",
    "from sklearn.metrics import accuracy_score, confusion_matrix, classification_report\n",
    "from sklearn.model_selection import train_test_split\n",
    "from sklearn.preprocessing import StandardScaler\n",
    "\n",
    "import pandas as pd\n",
    "\n",
    "# # supress warnings\n",
    "# import warnings\n",
    "# warnings.filterwarnings('ignore')"
   ]
  },
  {
   "cell_type": "code",
   "execution_count": 2,
   "metadata": {},
   "outputs": [],
   "source": [
    "data = pd.read_csv('E:/my-projs/wall-street-sentiments/data/train_test_data/train_test_data_new.csv')"
   ]
  },
  {
   "cell_type": "code",
   "execution_count": 3,
   "metadata": {},
   "outputs": [],
   "source": [
    "# Remove columns that are not needed for modelling\n",
    "\n",
    "data = data.drop(\n",
    "    ['name', \n",
    "     'ticker', \n",
    "     'timestamp',\n",
    "    'opening_price',\n",
    "   'closing_price',\n",
    "   'rank_24h_ago',\n",
    "   'mentions_24h_ago',\n",
    "   'rank', 'dividend_exists'\n",
    "    ], axis=1).sort_values(\n",
    "    by=['mentions'], \n",
    "    ascending=False)"
   ]
  },
  {
   "cell_type": "code",
   "execution_count": 4,
   "metadata": {},
   "outputs": [],
   "source": [
    "data.dropna(inplace=True)"
   ]
  },
  {
   "cell_type": "markdown",
   "metadata": {},
   "source": [
    "## Initial model"
   ]
  },
  {
   "cell_type": "code",
   "execution_count": 5,
   "metadata": {},
   "outputs": [],
   "source": [
    "x_train, x_test, y_train, y_test = train_test_split(data.drop('label', axis=1), data['label'], test_size=0.35, random_state=42)"
   ]
  },
  {
   "cell_type": "code",
   "execution_count": 6,
   "metadata": {},
   "outputs": [
    {
     "name": "stdout",
     "output_type": "stream",
     "text": [
      "              precision    recall  f1-score   support\n",
      "\n",
      "           0       0.52      0.25      0.34        59\n",
      "           1       0.58      0.81      0.67        74\n",
      "\n",
      "    accuracy                           0.56       133\n",
      "   macro avg       0.55      0.53      0.51       133\n",
      "weighted avg       0.55      0.56      0.53       133\n",
      "\n"
     ]
    },
    {
     "name": "stderr",
     "output_type": "stream",
     "text": [
      "e:\\my-projs\\wall-street-sentiments\\.venv\\lib\\site-packages\\sklearn\\linear_model\\_logistic.py:458: ConvergenceWarning: lbfgs failed to converge (status=1):\n",
      "STOP: TOTAL NO. of ITERATIONS REACHED LIMIT.\n",
      "\n",
      "Increase the number of iterations (max_iter) or scale the data as shown in:\n",
      "    https://scikit-learn.org/stable/modules/preprocessing.html\n",
      "Please also refer to the documentation for alternative solver options:\n",
      "    https://scikit-learn.org/stable/modules/linear_model.html#logistic-regression\n",
      "  n_iter_i = _check_optimize_result(\n"
     ]
    }
   ],
   "source": [
    "model = LogisticRegression()\n",
    "model.fit(x_train, y_train)\n",
    "\n",
    "y_pred = model.predict(x_test)\n",
    "\n",
    "print(classification_report(y_test, y_pred))"
   ]
  },
  {
   "cell_type": "code",
   "execution_count": 7,
   "metadata": {},
   "outputs": [
    {
     "name": "stdout",
     "output_type": "stream",
     "text": [
      "              precision    recall  f1-score   support\n",
      "\n",
      "           0       0.57      0.29      0.38       111\n",
      "           1       0.59      0.82      0.69       136\n",
      "\n",
      "    accuracy                           0.58       247\n",
      "   macro avg       0.58      0.56      0.53       247\n",
      "weighted avg       0.58      0.58      0.55       247\n",
      "\n"
     ]
    }
   ],
   "source": [
    "# Training error\n",
    "\n",
    "y_pred_train = model.predict(x_train)\n",
    "\n",
    "print(classification_report(y_train, y_pred_train))"
   ]
  },
  {
   "cell_type": "markdown",
   "metadata": {},
   "source": [
    "## Some initial preprocessing"
   ]
  },
  {
   "cell_type": "code",
   "execution_count": 8,
   "metadata": {},
   "outputs": [
    {
     "name": "stdout",
     "output_type": "stream",
     "text": [
      "              precision    recall  f1-score   support\n",
      "\n",
      "           0       0.46      0.29      0.35        59\n",
      "           1       0.56      0.73      0.64        74\n",
      "\n",
      "    accuracy                           0.53       133\n",
      "   macro avg       0.51      0.51      0.49       133\n",
      "weighted avg       0.52      0.53      0.51       133\n",
      "\n"
     ]
    }
   ],
   "source": [
    "# mean 0 and std 1\n",
    "\n",
    "scaler = StandardScaler()\n",
    "x_train = scaler.fit_transform(x_train)\n",
    "x_test = scaler.transform(x_test)\n",
    "\n",
    "model = LogisticRegression()\n",
    "model.fit(x_train, y_train)\n",
    "\n",
    "y_pred = model.predict(x_test)\n",
    "\n",
    "print(classification_report(y_test, y_pred))"
   ]
  },
  {
   "cell_type": "markdown",
   "metadata": {},
   "source": [
    "## Hyper-parameter tuning"
   ]
  },
  {
   "cell_type": "code",
   "execution_count": 9,
   "metadata": {},
   "outputs": [
    {
     "name": "stdout",
     "output_type": "stream",
     "text": [
      "Fitting 5 folds for each of 250 candidates, totalling 1250 fits\n"
     ]
    },
    {
     "name": "stdout",
     "output_type": "stream",
     "text": [
      "              precision    recall  f1-score   support\n",
      "\n",
      "           0       0.00      0.00      0.00        59\n",
      "           1       0.55      0.96      0.70        74\n",
      "\n",
      "    accuracy                           0.53       133\n",
      "   macro avg       0.27      0.48      0.35       133\n",
      "weighted avg       0.30      0.53      0.39       133\n",
      "\n"
     ]
    },
    {
     "name": "stderr",
     "output_type": "stream",
     "text": [
      "e:\\my-projs\\wall-street-sentiments\\.venv\\lib\\site-packages\\sklearn\\model_selection\\_validation.py:378: FitFailedWarning: \n",
      "375 fits failed out of a total of 1250.\n",
      "The score on these train-test partitions for these parameters will be set to nan.\n",
      "If these failures are not expected, you can try to debug them by setting error_score='raise'.\n",
      "\n",
      "Below are more details about the failures:\n",
      "--------------------------------------------------------------------------------\n",
      "125 fits failed with the following error:\n",
      "Traceback (most recent call last):\n",
      "  File \"e:\\my-projs\\wall-street-sentiments\\.venv\\lib\\site-packages\\sklearn\\model_selection\\_validation.py\", line 686, in _fit_and_score\n",
      "    estimator.fit(X_train, y_train, **fit_params)\n",
      "  File \"e:\\my-projs\\wall-street-sentiments\\.venv\\lib\\site-packages\\sklearn\\linear_model\\_logistic.py\", line 1162, in fit\n",
      "    solver = _check_solver(self.solver, self.penalty, self.dual)\n",
      "  File \"e:\\my-projs\\wall-street-sentiments\\.venv\\lib\\site-packages\\sklearn\\linear_model\\_logistic.py\", line 54, in _check_solver\n",
      "    raise ValueError(\n",
      "ValueError: Solver newton-cg supports only 'l2' or 'none' penalties, got l1 penalty.\n",
      "\n",
      "--------------------------------------------------------------------------------\n",
      "125 fits failed with the following error:\n",
      "Traceback (most recent call last):\n",
      "  File \"e:\\my-projs\\wall-street-sentiments\\.venv\\lib\\site-packages\\sklearn\\model_selection\\_validation.py\", line 686, in _fit_and_score\n",
      "    estimator.fit(X_train, y_train, **fit_params)\n",
      "  File \"e:\\my-projs\\wall-street-sentiments\\.venv\\lib\\site-packages\\sklearn\\linear_model\\_logistic.py\", line 1162, in fit\n",
      "    solver = _check_solver(self.solver, self.penalty, self.dual)\n",
      "  File \"e:\\my-projs\\wall-street-sentiments\\.venv\\lib\\site-packages\\sklearn\\linear_model\\_logistic.py\", line 54, in _check_solver\n",
      "    raise ValueError(\n",
      "ValueError: Solver lbfgs supports only 'l2' or 'none' penalties, got l1 penalty.\n",
      "\n",
      "--------------------------------------------------------------------------------\n",
      "125 fits failed with the following error:\n",
      "Traceback (most recent call last):\n",
      "  File \"e:\\my-projs\\wall-street-sentiments\\.venv\\lib\\site-packages\\sklearn\\model_selection\\_validation.py\", line 686, in _fit_and_score\n",
      "    estimator.fit(X_train, y_train, **fit_params)\n",
      "  File \"e:\\my-projs\\wall-street-sentiments\\.venv\\lib\\site-packages\\sklearn\\linear_model\\_logistic.py\", line 1162, in fit\n",
      "    solver = _check_solver(self.solver, self.penalty, self.dual)\n",
      "  File \"e:\\my-projs\\wall-street-sentiments\\.venv\\lib\\site-packages\\sklearn\\linear_model\\_logistic.py\", line 54, in _check_solver\n",
      "    raise ValueError(\n",
      "ValueError: Solver sag supports only 'l2' or 'none' penalties, got l1 penalty.\n",
      "\n",
      "  warnings.warn(some_fits_failed_message, FitFailedWarning)\n",
      "e:\\my-projs\\wall-street-sentiments\\.venv\\lib\\site-packages\\sklearn\\model_selection\\_search.py:952: UserWarning: One or more of the test scores are non-finite: [       nan        nan 0.49763265        nan 0.55469388 0.52204082\n",
      " 0.52204082 0.51771429 0.52204082 0.52204082        nan        nan\n",
      " 0.49763265        nan 0.55469388 0.52204082 0.52204082 0.51771429\n",
      " 0.52204082 0.52204082        nan        nan 0.49763265        nan\n",
      " 0.55469388 0.52204082 0.52204082 0.51771429 0.52204082 0.52204082\n",
      "        nan        nan 0.49763265        nan 0.55469388 0.52204082\n",
      " 0.52204082 0.51771429 0.52204082 0.52204082        nan        nan\n",
      " 0.49763265        nan 0.55469388 0.52204082 0.52204082 0.51771429\n",
      " 0.52204082 0.52204082        nan        nan 0.50555102        nan\n",
      " 0.51771429 0.50138776 0.50138776 0.50138776 0.50138776 0.50538776\n",
      "        nan        nan 0.50555102        nan 0.51771429 0.50138776\n",
      " 0.50138776 0.50138776 0.50138776 0.50138776        nan        nan\n",
      " 0.50555102        nan 0.51771429 0.50138776 0.50138776 0.50138776\n",
      " 0.50138776 0.50138776        nan        nan 0.50555102        nan\n",
      " 0.51771429 0.50138776 0.50138776 0.50138776 0.50138776 0.50138776\n",
      "        nan        nan 0.50555102        nan 0.51771429 0.50138776\n",
      " 0.50138776 0.50138776 0.50138776 0.50138776        nan        nan\n",
      " 0.51746939        nan 0.50538776 0.52563265 0.52563265 0.52563265\n",
      " 0.50546939 0.50538776        nan        nan 0.51746939        nan\n",
      " 0.52155102 0.52563265 0.52563265 0.52563265 0.52563265 0.52563265\n",
      "        nan        nan 0.51746939        nan 0.52155102 0.52563265\n",
      " 0.52563265 0.52563265 0.52563265 0.52563265        nan        nan\n",
      " 0.51746939        nan 0.52155102 0.52563265 0.52563265 0.52563265\n",
      " 0.52563265 0.52563265        nan        nan 0.51746939        nan\n",
      " 0.52155102 0.52563265 0.52563265 0.52563265 0.52563265 0.52563265\n",
      "        nan        nan 0.52163265        nan 0.50130612 0.52563265\n",
      " 0.52563265 0.52563265 0.50946939 0.50130612        nan        nan\n",
      " 0.52163265        nan 0.52563265 0.52563265 0.52563265 0.52563265\n",
      " 0.52563265 0.52563265        nan        nan 0.52163265        nan\n",
      " 0.52563265 0.52563265 0.52563265 0.52563265 0.52563265 0.52563265\n",
      "        nan        nan 0.52163265        nan 0.52563265 0.52563265\n",
      " 0.52563265 0.52563265 0.52563265 0.52563265        nan        nan\n",
      " 0.52163265        nan 0.52563265 0.52563265 0.52563265 0.52563265\n",
      " 0.52563265 0.52563265        nan        nan 0.52163265        nan\n",
      " 0.50130612 0.52163265 0.52163265 0.52163265 0.50946939 0.50538776\n",
      "        nan        nan 0.52163265        nan 0.52563265 0.52163265\n",
      " 0.52163265 0.52163265 0.52163265 0.52563265        nan        nan\n",
      " 0.52163265        nan 0.52563265 0.52163265 0.52163265 0.52163265\n",
      " 0.52163265 0.52563265        nan        nan 0.52163265        nan\n",
      " 0.52563265 0.52163265 0.52163265 0.52163265 0.52163265 0.52563265\n",
      "        nan        nan 0.52163265        nan 0.52563265 0.52163265\n",
      " 0.52163265 0.52163265 0.52163265 0.52563265]\n",
      "  warnings.warn(\n"
     ]
    }
   ],
   "source": [
    "# random search cv\n",
    "from sklearn.model_selection import RandomizedSearchCV\n",
    "from sklearn.model_selection import GridSearchCV\n",
    "\n",
    "param_grid = {\n",
    "    'C': [0.1, 1, 10, 100, 1000],\n",
    "    'penalty': ['l1', 'l2'],\n",
    "    'solver': ['newton-cg', 'lbfgs', 'liblinear', 'sag', 'saga'],\n",
    "    'max_iter': [100, 1000, 2500, 5000, 50000],\n",
    "}\n",
    "\n",
    "grid_search = GridSearchCV(estimator=model, param_grid=param_grid, cv=5, n_jobs=-1, verbose=2)\n",
    "\n",
    "grid_search.fit(x_train, y_train)\n",
    "\n",
    "grid_search.best_params_\n",
    "\n",
    "grid_search.best_score_\n",
    "\n",
    "y_pred = grid_search.predict(x_test)\n",
    "\n",
    "print(classification_report(y_test, y_pred))\n"
   ]
  },
  {
   "cell_type": "code",
   "execution_count": 10,
   "metadata": {},
   "outputs": [
    {
     "data": {
      "text/plain": [
       "{'C': 0.1, 'max_iter': 100, 'penalty': 'l1', 'solver': 'saga'}"
      ]
     },
     "execution_count": 10,
     "metadata": {},
     "output_type": "execute_result"
    }
   ],
   "source": [
    "grid_search.best_params_"
   ]
  },
  {
   "cell_type": "code",
   "execution_count": 11,
   "metadata": {},
   "outputs": [
    {
     "name": "stdout",
     "output_type": "stream",
     "text": [
      "              precision    recall  f1-score   support\n",
      "\n",
      "           0       0.75      0.03      0.05       111\n",
      "           1       0.56      0.99      0.71       136\n",
      "\n",
      "    accuracy                           0.56       247\n",
      "   macro avg       0.65      0.51      0.38       247\n",
      "weighted avg       0.64      0.56      0.42       247\n",
      "\n"
     ]
    }
   ],
   "source": [
    "# Training Error\n",
    "\n",
    "y_pred_train = grid_search.predict(x_train)\n",
    "\n",
    "print(classification_report(y_train, y_pred_train))"
   ]
  },
  {
   "cell_type": "code",
   "execution_count": null,
   "metadata": {},
   "outputs": [],
   "source": []
  }
 ],
 "metadata": {
  "kernelspec": {
   "display_name": ".venv",
   "language": "python",
   "name": "python3"
  },
  "language_info": {
   "codemirror_mode": {
    "name": "ipython",
    "version": 3
   },
   "file_extension": ".py",
   "mimetype": "text/x-python",
   "name": "python",
   "nbconvert_exporter": "python",
   "pygments_lexer": "ipython3",
   "version": "3.10.0"
  },
  "orig_nbformat": 4
 },
 "nbformat": 4,
 "nbformat_minor": 2
}
