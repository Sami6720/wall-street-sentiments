{
 "cells": [
  {
   "cell_type": "code",
   "execution_count": 98,
   "metadata": {},
   "outputs": [],
   "source": [
    "import pandas as pd\n",
    "from sklearn.model_selection import train_test_split\n",
    "from sklearn.ensemble import RandomForestClassifier\n",
    "from sklearn.metrics import accuracy_score, confusion_matrix, classification_report\n",
    "from sklearn.linear_model import LogisticRegression\n",
    "import numpy as np\n",
    "from sklearn.model_selection import GridSearchCV"
   ]
  },
  {
   "attachments": {},
   "cell_type": "markdown",
   "metadata": {},
   "source": [
    "## Random Forrest Modelling"
   ]
  },
  {
   "attachments": {},
   "cell_type": "markdown",
   "metadata": {},
   "source": [
    "### Initial Model"
   ]
  },
  {
   "cell_type": "code",
   "execution_count": 99,
   "metadata": {},
   "outputs": [],
   "source": [
    "train_test_data = pd.read_csv('../../../data/train_test_data/train_test_data.csv')"
   ]
  },
  {
   "cell_type": "code",
   "execution_count": 100,
   "metadata": {},
   "outputs": [
    {
     "data": {
      "text/html": [
       "<div>\n",
       "<style scoped>\n",
       "    .dataframe tbody tr th:only-of-type {\n",
       "        vertical-align: middle;\n",
       "    }\n",
       "\n",
       "    .dataframe tbody tr th {\n",
       "        vertical-align: top;\n",
       "    }\n",
       "\n",
       "    .dataframe thead th {\n",
       "        text-align: right;\n",
       "    }\n",
       "</style>\n",
       "<table border=\"1\" class=\"dataframe\">\n",
       "  <thead>\n",
       "    <tr style=\"text-align: right;\">\n",
       "      <th></th>\n",
       "      <th>timestamp</th>\n",
       "      <th>rank</th>\n",
       "      <th>ticker</th>\n",
       "      <th>name</th>\n",
       "      <th>mentions</th>\n",
       "      <th>mentioning_users</th>\n",
       "      <th>upvotes</th>\n",
       "      <th>sentiment</th>\n",
       "      <th>rank_24h_ago</th>\n",
       "      <th>mentions_24h_ago</th>\n",
       "      <th>...</th>\n",
       "      <th>return_on_equity_ttm</th>\n",
       "      <th>dividend_yield_annual</th>\n",
       "      <th>total_debt_to_equity_quarterly</th>\n",
       "      <th>revenue_growth_ttm_yoy</th>\n",
       "      <th>dividend_exists</th>\n",
       "      <th>rank_percentage_change_24h</th>\n",
       "      <th>mentions_percentage_change_24h</th>\n",
       "      <th>opening_price</th>\n",
       "      <th>closing_price</th>\n",
       "      <th>label</th>\n",
       "    </tr>\n",
       "  </thead>\n",
       "  <tbody>\n",
       "    <tr>\n",
       "      <th>0</th>\n",
       "      <td>06-18-2023</td>\n",
       "      <td>2</td>\n",
       "      <td>AMD</td>\n",
       "      <td>AMD</td>\n",
       "      <td>56</td>\n",
       "      <td>42.0</td>\n",
       "      <td>112</td>\n",
       "      <td>67.0</td>\n",
       "      <td>4</td>\n",
       "      <td>54</td>\n",
       "      <td>...</td>\n",
       "      <td>2.4000</td>\n",
       "      <td>0.000000</td>\n",
       "      <td>0.0451</td>\n",
       "      <td>22.20</td>\n",
       "      <td>0</td>\n",
       "      <td>-0.500000</td>\n",
       "      <td>0.037037</td>\n",
       "      <td>125.82</td>\n",
       "      <td>120.08</td>\n",
       "      <td>0</td>\n",
       "    </tr>\n",
       "    <tr>\n",
       "      <th>1</th>\n",
       "      <td>06-18-2023</td>\n",
       "      <td>3</td>\n",
       "      <td>TSLA</td>\n",
       "      <td>Tesla</td>\n",
       "      <td>48</td>\n",
       "      <td>45.0</td>\n",
       "      <td>462</td>\n",
       "      <td>51.0</td>\n",
       "      <td>3</td>\n",
       "      <td>61</td>\n",
       "      <td>...</td>\n",
       "      <td>27.9000</td>\n",
       "      <td>0.000000</td>\n",
       "      <td>0.0557</td>\n",
       "      <td>38.34</td>\n",
       "      <td>0</td>\n",
       "      <td>0.000000</td>\n",
       "      <td>-0.213115</td>\n",
       "      <td>258.92</td>\n",
       "      <td>260.54</td>\n",
       "      <td>1</td>\n",
       "    </tr>\n",
       "    <tr>\n",
       "      <th>2</th>\n",
       "      <td>06-18-2023</td>\n",
       "      <td>4</td>\n",
       "      <td>NVDA</td>\n",
       "      <td>NVIDIA</td>\n",
       "      <td>44</td>\n",
       "      <td>41.0</td>\n",
       "      <td>262</td>\n",
       "      <td>57.0</td>\n",
       "      <td>2</td>\n",
       "      <td>88</td>\n",
       "      <td>...</td>\n",
       "      <td>20.8800</td>\n",
       "      <td>0.037512</td>\n",
       "      <td>0.4467</td>\n",
       "      <td>-12.40</td>\n",
       "      <td>1</td>\n",
       "      <td>1.000000</td>\n",
       "      <td>-0.500000</td>\n",
       "      <td>434.50</td>\n",
       "      <td>426.92</td>\n",
       "      <td>0</td>\n",
       "    </tr>\n",
       "    <tr>\n",
       "      <th>4</th>\n",
       "      <td>06-18-2023</td>\n",
       "      <td>7</td>\n",
       "      <td>AAPL</td>\n",
       "      <td>Apple</td>\n",
       "      <td>32</td>\n",
       "      <td>30.0</td>\n",
       "      <td>226</td>\n",
       "      <td>70.0</td>\n",
       "      <td>10</td>\n",
       "      <td>20</td>\n",
       "      <td>...</td>\n",
       "      <td>165.7200</td>\n",
       "      <td>0.516101</td>\n",
       "      <td>1.7635</td>\n",
       "      <td>-0.24</td>\n",
       "      <td>1</td>\n",
       "      <td>-0.300000</td>\n",
       "      <td>0.600000</td>\n",
       "      <td>186.73</td>\n",
       "      <td>184.92</td>\n",
       "      <td>0</td>\n",
       "    </tr>\n",
       "    <tr>\n",
       "      <th>5</th>\n",
       "      <td>06-18-2023</td>\n",
       "      <td>9</td>\n",
       "      <td>DTE</td>\n",
       "      <td>DTE Energy</td>\n",
       "      <td>23</td>\n",
       "      <td>22.0</td>\n",
       "      <td>146</td>\n",
       "      <td>56.0</td>\n",
       "      <td>6</td>\n",
       "      <td>44</td>\n",
       "      <td>...</td>\n",
       "      <td>11.7500</td>\n",
       "      <td>3.344746</td>\n",
       "      <td>1.8338</td>\n",
       "      <td>-15.52</td>\n",
       "      <td>1</td>\n",
       "      <td>0.500000</td>\n",
       "      <td>-0.477273</td>\n",
       "      <td>114.56</td>\n",
       "      <td>114.12</td>\n",
       "      <td>0</td>\n",
       "    </tr>\n",
       "    <tr>\n",
       "      <th>...</th>\n",
       "      <td>...</td>\n",
       "      <td>...</td>\n",
       "      <td>...</td>\n",
       "      <td>...</td>\n",
       "      <td>...</td>\n",
       "      <td>...</td>\n",
       "      <td>...</td>\n",
       "      <td>...</td>\n",
       "      <td>...</td>\n",
       "      <td>...</td>\n",
       "      <td>...</td>\n",
       "      <td>...</td>\n",
       "      <td>...</td>\n",
       "      <td>...</td>\n",
       "      <td>...</td>\n",
       "      <td>...</td>\n",
       "      <td>...</td>\n",
       "      <td>...</td>\n",
       "      <td>...</td>\n",
       "      <td>...</td>\n",
       "      <td>...</td>\n",
       "    </tr>\n",
       "    <tr>\n",
       "      <th>195</th>\n",
       "      <td>06-16-2023</td>\n",
       "      <td>7</td>\n",
       "      <td>PLTR</td>\n",
       "      <td>Palantir</td>\n",
       "      <td>184</td>\n",
       "      <td>84.0</td>\n",
       "      <td>588</td>\n",
       "      <td>65.0</td>\n",
       "      <td>12</td>\n",
       "      <td>53</td>\n",
       "      <td>...</td>\n",
       "      <td>-7.1566</td>\n",
       "      <td>0.000000</td>\n",
       "      <td>0.0000</td>\n",
       "      <td>20.50</td>\n",
       "      <td>0</td>\n",
       "      <td>-0.416667</td>\n",
       "      <td>2.471698</td>\n",
       "      <td>16.87</td>\n",
       "      <td>16.30</td>\n",
       "      <td>0</td>\n",
       "    </tr>\n",
       "    <tr>\n",
       "      <th>196</th>\n",
       "      <td>06-16-2023</td>\n",
       "      <td>8</td>\n",
       "      <td>MSFT</td>\n",
       "      <td>Microsoft</td>\n",
       "      <td>126</td>\n",
       "      <td>82.0</td>\n",
       "      <td>613</td>\n",
       "      <td>73.0</td>\n",
       "      <td>24</td>\n",
       "      <td>35</td>\n",
       "      <td>...</td>\n",
       "      <td>38.4600</td>\n",
       "      <td>0.781385</td>\n",
       "      <td>0.3322</td>\n",
       "      <td>7.81</td>\n",
       "      <td>1</td>\n",
       "      <td>-0.666667</td>\n",
       "      <td>2.600000</td>\n",
       "      <td>351.32</td>\n",
       "      <td>342.33</td>\n",
       "      <td>0</td>\n",
       "    </tr>\n",
       "    <tr>\n",
       "      <th>197</th>\n",
       "      <td>06-16-2023</td>\n",
       "      <td>9</td>\n",
       "      <td>SPCE</td>\n",
       "      <td>Virgin Galactic</td>\n",
       "      <td>125</td>\n",
       "      <td>99.0</td>\n",
       "      <td>739</td>\n",
       "      <td>68.0</td>\n",
       "      <td>164</td>\n",
       "      <td>3</td>\n",
       "      <td>...</td>\n",
       "      <td>1.8000</td>\n",
       "      <td>0.000000</td>\n",
       "      <td>1.1349</td>\n",
       "      <td>-33.95</td>\n",
       "      <td>0</td>\n",
       "      <td>-0.945122</td>\n",
       "      <td>40.666667</td>\n",
       "      <td>5.72</td>\n",
       "      <td>4.73</td>\n",
       "      <td>0</td>\n",
       "    </tr>\n",
       "    <tr>\n",
       "      <th>198</th>\n",
       "      <td>06-16-2023</td>\n",
       "      <td>10</td>\n",
       "      <td>NKLA</td>\n",
       "      <td>Nikola</td>\n",
       "      <td>117</td>\n",
       "      <td>79.0</td>\n",
       "      <td>285</td>\n",
       "      <td>75.0</td>\n",
       "      <td>10</td>\n",
       "      <td>56</td>\n",
       "      <td>...</td>\n",
       "      <td>1.1500</td>\n",
       "      <td>0.000000</td>\n",
       "      <td>0.5830</td>\n",
       "      <td>3082.56</td>\n",
       "      <td>0</td>\n",
       "      <td>0.000000</td>\n",
       "      <td>1.089286</td>\n",
       "      <td>1.70</td>\n",
       "      <td>1.19</td>\n",
       "      <td>0</td>\n",
       "    </tr>\n",
       "    <tr>\n",
       "      <th>199</th>\n",
       "      <td>06-16-2023</td>\n",
       "      <td>12</td>\n",
       "      <td>CCL</td>\n",
       "      <td>Carnival Cruise Line</td>\n",
       "      <td>92</td>\n",
       "      <td>51.0</td>\n",
       "      <td>254</td>\n",
       "      <td>88.0</td>\n",
       "      <td>13</td>\n",
       "      <td>51</td>\n",
       "      <td>...</td>\n",
       "      <td>12.0700</td>\n",
       "      <td>0.000000</td>\n",
       "      <td>5.6956</td>\n",
       "      <td>327.18</td>\n",
       "      <td>0</td>\n",
       "      <td>-0.076923</td>\n",
       "      <td>0.803922</td>\n",
       "      <td>16.30</td>\n",
       "      <td>15.80</td>\n",
       "      <td>0</td>\n",
       "    </tr>\n",
       "  </tbody>\n",
       "</table>\n",
       "<p>196 rows × 23 columns</p>\n",
       "</div>"
      ],
      "text/plain": [
       "      timestamp  rank ticker                  name  mentions   \n",
       "0    06-18-2023     2    AMD                   AMD        56  \\\n",
       "1    06-18-2023     3   TSLA                 Tesla        48   \n",
       "2    06-18-2023     4   NVDA                NVIDIA        44   \n",
       "4    06-18-2023     7   AAPL                 Apple        32   \n",
       "5    06-18-2023     9    DTE            DTE Energy        23   \n",
       "..          ...   ...    ...                   ...       ...   \n",
       "195  06-16-2023     7   PLTR              Palantir       184   \n",
       "196  06-16-2023     8   MSFT             Microsoft       126   \n",
       "197  06-16-2023     9   SPCE       Virgin Galactic       125   \n",
       "198  06-16-2023    10   NKLA                Nikola       117   \n",
       "199  06-16-2023    12    CCL  Carnival Cruise Line        92   \n",
       "\n",
       "     mentioning_users  upvotes  sentiment  rank_24h_ago  mentions_24h_ago   \n",
       "0                42.0      112       67.0             4                54  \\\n",
       "1                45.0      462       51.0             3                61   \n",
       "2                41.0      262       57.0             2                88   \n",
       "4                30.0      226       70.0            10                20   \n",
       "5                22.0      146       56.0             6                44   \n",
       "..                ...      ...        ...           ...               ...   \n",
       "195              84.0      588       65.0            12                53   \n",
       "196              82.0      613       73.0            24                35   \n",
       "197              99.0      739       68.0           164                 3   \n",
       "198              79.0      285       75.0            10                56   \n",
       "199              51.0      254       88.0            13                51   \n",
       "\n",
       "     ...  return_on_equity_ttm  dividend_yield_annual   \n",
       "0    ...                2.4000               0.000000  \\\n",
       "1    ...               27.9000               0.000000   \n",
       "2    ...               20.8800               0.037512   \n",
       "4    ...              165.7200               0.516101   \n",
       "5    ...               11.7500               3.344746   \n",
       "..   ...                   ...                    ...   \n",
       "195  ...               -7.1566               0.000000   \n",
       "196  ...               38.4600               0.781385   \n",
       "197  ...                1.8000               0.000000   \n",
       "198  ...                1.1500               0.000000   \n",
       "199  ...               12.0700               0.000000   \n",
       "\n",
       "     total_debt_to_equity_quarterly  revenue_growth_ttm_yoy  dividend_exists   \n",
       "0                            0.0451                   22.20                0  \\\n",
       "1                            0.0557                   38.34                0   \n",
       "2                            0.4467                  -12.40                1   \n",
       "4                            1.7635                   -0.24                1   \n",
       "5                            1.8338                  -15.52                1   \n",
       "..                              ...                     ...              ...   \n",
       "195                          0.0000                   20.50                0   \n",
       "196                          0.3322                    7.81                1   \n",
       "197                          1.1349                  -33.95                0   \n",
       "198                          0.5830                 3082.56                0   \n",
       "199                          5.6956                  327.18                0   \n",
       "\n",
       "     rank_percentage_change_24h  mentions_percentage_change_24h   \n",
       "0                     -0.500000                        0.037037  \\\n",
       "1                      0.000000                       -0.213115   \n",
       "2                      1.000000                       -0.500000   \n",
       "4                     -0.300000                        0.600000   \n",
       "5                      0.500000                       -0.477273   \n",
       "..                          ...                             ...   \n",
       "195                   -0.416667                        2.471698   \n",
       "196                   -0.666667                        2.600000   \n",
       "197                   -0.945122                       40.666667   \n",
       "198                    0.000000                        1.089286   \n",
       "199                   -0.076923                        0.803922   \n",
       "\n",
       "     opening_price  closing_price  label  \n",
       "0           125.82         120.08      0  \n",
       "1           258.92         260.54      1  \n",
       "2           434.50         426.92      0  \n",
       "4           186.73         184.92      0  \n",
       "5           114.56         114.12      0  \n",
       "..             ...            ...    ...  \n",
       "195          16.87          16.30      0  \n",
       "196         351.32         342.33      0  \n",
       "197           5.72           4.73      0  \n",
       "198           1.70           1.19      0  \n",
       "199          16.30          15.80      0  \n",
       "\n",
       "[196 rows x 23 columns]"
      ]
     },
     "execution_count": 100,
     "metadata": {},
     "output_type": "execute_result"
    }
   ],
   "source": [
    "train_test_data.dropna(inplace=True)\n",
    "train_test_data"
   ]
  },
  {
   "cell_type": "code",
   "execution_count": 101,
   "metadata": {},
   "outputs": [],
   "source": [
    "# Remove columns that are not needed for modelling\n",
    "\n",
    "train_test_data = train_test_data.drop(\n",
    "    ['name', \n",
    "     'ticker', \n",
    "     'timestamp',\n",
    "    'opening_price',\n",
    "   'closing_price',\n",
    "   'rank_24h_ago',\n",
    "   'mentions_24h_ago',\n",
    "   'rank', 'dividend_exists'\n",
    "    ], axis=1).sort_values(\n",
    "    by=['mentions'], \n",
    "    ascending=False)"
   ]
  },
  {
   "cell_type": "code",
   "execution_count": 102,
   "metadata": {},
   "outputs": [
    {
     "data": {
      "text/html": [
       "<div>\n",
       "<style scoped>\n",
       "    .dataframe tbody tr th:only-of-type {\n",
       "        vertical-align: middle;\n",
       "    }\n",
       "\n",
       "    .dataframe tbody tr th {\n",
       "        vertical-align: top;\n",
       "    }\n",
       "\n",
       "    .dataframe thead th {\n",
       "        text-align: right;\n",
       "    }\n",
       "</style>\n",
       "<table border=\"1\" class=\"dataframe\">\n",
       "  <thead>\n",
       "    <tr style=\"text-align: right;\">\n",
       "      <th></th>\n",
       "      <th>mentions</th>\n",
       "      <th>mentioning_users</th>\n",
       "      <th>upvotes</th>\n",
       "      <th>sentiment</th>\n",
       "      <th>beta</th>\n",
       "      <th>earnings_per_share_ttm</th>\n",
       "      <th>price_to_equity_ttm</th>\n",
       "      <th>return_on_equity_ttm</th>\n",
       "      <th>dividend_yield_annual</th>\n",
       "      <th>total_debt_to_equity_quarterly</th>\n",
       "      <th>revenue_growth_ttm_yoy</th>\n",
       "      <th>rank_percentage_change_24h</th>\n",
       "      <th>mentions_percentage_change_24h</th>\n",
       "      <th>label</th>\n",
       "    </tr>\n",
       "  </thead>\n",
       "  <tbody>\n",
       "    <tr>\n",
       "      <th>30</th>\n",
       "      <td>3216</td>\n",
       "      <td>1370.0</td>\n",
       "      <td>30860</td>\n",
       "      <td>57.0</td>\n",
       "      <td>1.770654</td>\n",
       "      <td>1.7415</td>\n",
       "      <td>173.5333</td>\n",
       "      <td>18.66000</td>\n",
       "      <td>0.052394</td>\n",
       "      <td>0.4956</td>\n",
       "      <td>0.22</td>\n",
       "      <td>-0.666667</td>\n",
       "      <td>10.694545</td>\n",
       "      <td>0</td>\n",
       "    </tr>\n",
       "    <tr>\n",
       "      <th>77</th>\n",
       "      <td>1684</td>\n",
       "      <td>1076.0</td>\n",
       "      <td>10793</td>\n",
       "      <td>68.0</td>\n",
       "      <td>2.890432</td>\n",
       "      <td>-2.4261</td>\n",
       "      <td>0.0000</td>\n",
       "      <td>-22.98162</td>\n",
       "      <td>0.000000</td>\n",
       "      <td>0.0000</td>\n",
       "      <td>14.60</td>\n",
       "      <td>0.000000</td>\n",
       "      <td>1.284939</td>\n",
       "      <td>0</td>\n",
       "    </tr>\n",
       "    <tr>\n",
       "      <th>80</th>\n",
       "      <td>1401</td>\n",
       "      <td>856.0</td>\n",
       "      <td>8556</td>\n",
       "      <td>59.0</td>\n",
       "      <td>2.890432</td>\n",
       "      <td>-2.4261</td>\n",
       "      <td>0.0000</td>\n",
       "      <td>-22.98162</td>\n",
       "      <td>0.000000</td>\n",
       "      <td>0.0000</td>\n",
       "      <td>14.60</td>\n",
       "      <td>0.000000</td>\n",
       "      <td>-0.170515</td>\n",
       "      <td>1</td>\n",
       "    </tr>\n",
       "    <tr>\n",
       "      <th>31</th>\n",
       "      <td>1363</td>\n",
       "      <td>889.0</td>\n",
       "      <td>8328</td>\n",
       "      <td>68.0</td>\n",
       "      <td>2.707838</td>\n",
       "      <td>-2.4261</td>\n",
       "      <td>0.0000</td>\n",
       "      <td>-22.98162</td>\n",
       "      <td>0.000000</td>\n",
       "      <td>0.0000</td>\n",
       "      <td>14.60</td>\n",
       "      <td>1.000000</td>\n",
       "      <td>3.168196</td>\n",
       "      <td>0</td>\n",
       "    </tr>\n",
       "    <tr>\n",
       "      <th>48</th>\n",
       "      <td>1268</td>\n",
       "      <td>738.0</td>\n",
       "      <td>24699</td>\n",
       "      <td>61.0</td>\n",
       "      <td>1.770654</td>\n",
       "      <td>1.7415</td>\n",
       "      <td>214.7679</td>\n",
       "      <td>18.66000</td>\n",
       "      <td>0.042127</td>\n",
       "      <td>0.4956</td>\n",
       "      <td>0.22</td>\n",
       "      <td>0.000000</td>\n",
       "      <td>-0.584262</td>\n",
       "      <td>1</td>\n",
       "    </tr>\n",
       "    <tr>\n",
       "      <th>...</th>\n",
       "      <td>...</td>\n",
       "      <td>...</td>\n",
       "      <td>...</td>\n",
       "      <td>...</td>\n",
       "      <td>...</td>\n",
       "      <td>...</td>\n",
       "      <td>...</td>\n",
       "      <td>...</td>\n",
       "      <td>...</td>\n",
       "      <td>...</td>\n",
       "      <td>...</td>\n",
       "      <td>...</td>\n",
       "      <td>...</td>\n",
       "      <td>...</td>\n",
       "    </tr>\n",
       "    <tr>\n",
       "      <th>17</th>\n",
       "      <td>21</td>\n",
       "      <td>21.0</td>\n",
       "      <td>71</td>\n",
       "      <td>27.0</td>\n",
       "      <td>1.572032</td>\n",
       "      <td>3.0917</td>\n",
       "      <td>6.2354</td>\n",
       "      <td>67.06000</td>\n",
       "      <td>2.949852</td>\n",
       "      <td>2.9535</td>\n",
       "      <td>-1.62</td>\n",
       "      <td>-0.142857</td>\n",
       "      <td>0.615385</td>\n",
       "      <td>0</td>\n",
       "    </tr>\n",
       "    <tr>\n",
       "      <th>51</th>\n",
       "      <td>20</td>\n",
       "      <td>19.0</td>\n",
       "      <td>81</td>\n",
       "      <td>100.0</td>\n",
       "      <td>1.590526</td>\n",
       "      <td>39.3679</td>\n",
       "      <td>14.3787</td>\n",
       "      <td>36.27000</td>\n",
       "      <td>1.987601</td>\n",
       "      <td>0.2909</td>\n",
       "      <td>32.95</td>\n",
       "      <td>-0.500000</td>\n",
       "      <td>0.538462</td>\n",
       "      <td>1</td>\n",
       "    </tr>\n",
       "    <tr>\n",
       "      <th>7</th>\n",
       "      <td>20</td>\n",
       "      <td>21.0</td>\n",
       "      <td>317</td>\n",
       "      <td>71.0</td>\n",
       "      <td>1.137865</td>\n",
       "      <td>9.2258</td>\n",
       "      <td>37.5006</td>\n",
       "      <td>38.46000</td>\n",
       "      <td>0.781385</td>\n",
       "      <td>0.3322</td>\n",
       "      <td>7.81</td>\n",
       "      <td>-0.388889</td>\n",
       "      <td>0.250000</td>\n",
       "      <td>0</td>\n",
       "    </tr>\n",
       "    <tr>\n",
       "      <th>8</th>\n",
       "      <td>19</td>\n",
       "      <td>20.0</td>\n",
       "      <td>22</td>\n",
       "      <td>67.0</td>\n",
       "      <td>1.225190</td>\n",
       "      <td>2.2551</td>\n",
       "      <td>41.2108</td>\n",
       "      <td>4.32000</td>\n",
       "      <td>0.000000</td>\n",
       "      <td>0.4958</td>\n",
       "      <td>13.52</td>\n",
       "      <td>-0.076923</td>\n",
       "      <td>0.117647</td>\n",
       "      <td>0</td>\n",
       "    </tr>\n",
       "    <tr>\n",
       "      <th>9</th>\n",
       "      <td>18</td>\n",
       "      <td>18.0</td>\n",
       "      <td>146</td>\n",
       "      <td>47.0</td>\n",
       "      <td>1.928081</td>\n",
       "      <td>10.4727</td>\n",
       "      <td>46.3907</td>\n",
       "      <td>33.47000</td>\n",
       "      <td>0.000000</td>\n",
       "      <td>0.2555</td>\n",
       "      <td>10.40</td>\n",
       "      <td>0.444444</td>\n",
       "      <td>-0.100000</td>\n",
       "      <td>0</td>\n",
       "    </tr>\n",
       "  </tbody>\n",
       "</table>\n",
       "<p>196 rows × 14 columns</p>\n",
       "</div>"
      ],
      "text/plain": [
       "    mentions  mentioning_users  upvotes  sentiment      beta   \n",
       "30      3216            1370.0    30860       57.0  1.770654  \\\n",
       "77      1684            1076.0    10793       68.0  2.890432   \n",
       "80      1401             856.0     8556       59.0  2.890432   \n",
       "31      1363             889.0     8328       68.0  2.707838   \n",
       "48      1268             738.0    24699       61.0  1.770654   \n",
       "..       ...               ...      ...        ...       ...   \n",
       "17        21              21.0       71       27.0  1.572032   \n",
       "51        20              19.0       81      100.0  1.590526   \n",
       "7         20              21.0      317       71.0  1.137865   \n",
       "8         19              20.0       22       67.0  1.225190   \n",
       "9         18              18.0      146       47.0  1.928081   \n",
       "\n",
       "    earnings_per_share_ttm  price_to_equity_ttm  return_on_equity_ttm   \n",
       "30                  1.7415             173.5333              18.66000  \\\n",
       "77                 -2.4261               0.0000             -22.98162   \n",
       "80                 -2.4261               0.0000             -22.98162   \n",
       "31                 -2.4261               0.0000             -22.98162   \n",
       "48                  1.7415             214.7679              18.66000   \n",
       "..                     ...                  ...                   ...   \n",
       "17                  3.0917               6.2354              67.06000   \n",
       "51                 39.3679              14.3787              36.27000   \n",
       "7                   9.2258              37.5006              38.46000   \n",
       "8                   2.2551              41.2108               4.32000   \n",
       "9                  10.4727              46.3907              33.47000   \n",
       "\n",
       "    dividend_yield_annual  total_debt_to_equity_quarterly   \n",
       "30               0.052394                          0.4956  \\\n",
       "77               0.000000                          0.0000   \n",
       "80               0.000000                          0.0000   \n",
       "31               0.000000                          0.0000   \n",
       "48               0.042127                          0.4956   \n",
       "..                    ...                             ...   \n",
       "17               2.949852                          2.9535   \n",
       "51               1.987601                          0.2909   \n",
       "7                0.781385                          0.3322   \n",
       "8                0.000000                          0.4958   \n",
       "9                0.000000                          0.2555   \n",
       "\n",
       "    revenue_growth_ttm_yoy  rank_percentage_change_24h   \n",
       "30                    0.22                   -0.666667  \\\n",
       "77                   14.60                    0.000000   \n",
       "80                   14.60                    0.000000   \n",
       "31                   14.60                    1.000000   \n",
       "48                    0.22                    0.000000   \n",
       "..                     ...                         ...   \n",
       "17                   -1.62                   -0.142857   \n",
       "51                   32.95                   -0.500000   \n",
       "7                     7.81                   -0.388889   \n",
       "8                    13.52                   -0.076923   \n",
       "9                    10.40                    0.444444   \n",
       "\n",
       "    mentions_percentage_change_24h  label  \n",
       "30                       10.694545      0  \n",
       "77                        1.284939      0  \n",
       "80                       -0.170515      1  \n",
       "31                        3.168196      0  \n",
       "48                       -0.584262      1  \n",
       "..                             ...    ...  \n",
       "17                        0.615385      0  \n",
       "51                        0.538462      1  \n",
       "7                         0.250000      0  \n",
       "8                         0.117647      0  \n",
       "9                        -0.100000      0  \n",
       "\n",
       "[196 rows x 14 columns]"
      ]
     },
     "execution_count": 102,
     "metadata": {},
     "output_type": "execute_result"
    }
   ],
   "source": [
    "train_test_data"
   ]
  },
  {
   "cell_type": "code",
   "execution_count": 103,
   "metadata": {},
   "outputs": [
    {
     "data": {
      "text/plain": [
       "label\n",
       "1    104\n",
       "0     92\n",
       "Name: count, dtype: int64"
      ]
     },
     "execution_count": 103,
     "metadata": {},
     "output_type": "execute_result"
    }
   ],
   "source": [
    "train_test_data.value_counts('label')"
   ]
  },
  {
   "cell_type": "code",
   "execution_count": 104,
   "metadata": {},
   "outputs": [],
   "source": [
    "x_train, x_test, y_train, y_test = train_test_split(train_test_data.drop('label', axis=1), train_test_data['label'], test_size=0.2, random_state=42)"
   ]
  },
  {
   "cell_type": "code",
   "execution_count": 105,
   "metadata": {},
   "outputs": [],
   "source": [
    "clf = RandomForestClassifier(n_estimators=100, max_depth=6, random_state=0)"
   ]
  },
  {
   "cell_type": "code",
   "execution_count": 106,
   "metadata": {},
   "outputs": [
    {
     "data": {
      "text/html": [
       "<style>#sk-container-id-5 {color: black;background-color: white;}#sk-container-id-5 pre{padding: 0;}#sk-container-id-5 div.sk-toggleable {background-color: white;}#sk-container-id-5 label.sk-toggleable__label {cursor: pointer;display: block;width: 100%;margin-bottom: 0;padding: 0.3em;box-sizing: border-box;text-align: center;}#sk-container-id-5 label.sk-toggleable__label-arrow:before {content: \"▸\";float: left;margin-right: 0.25em;color: #696969;}#sk-container-id-5 label.sk-toggleable__label-arrow:hover:before {color: black;}#sk-container-id-5 div.sk-estimator:hover label.sk-toggleable__label-arrow:before {color: black;}#sk-container-id-5 div.sk-toggleable__content {max-height: 0;max-width: 0;overflow: hidden;text-align: left;background-color: #f0f8ff;}#sk-container-id-5 div.sk-toggleable__content pre {margin: 0.2em;color: black;border-radius: 0.25em;background-color: #f0f8ff;}#sk-container-id-5 input.sk-toggleable__control:checked~div.sk-toggleable__content {max-height: 200px;max-width: 100%;overflow: auto;}#sk-container-id-5 input.sk-toggleable__control:checked~label.sk-toggleable__label-arrow:before {content: \"▾\";}#sk-container-id-5 div.sk-estimator input.sk-toggleable__control:checked~label.sk-toggleable__label {background-color: #d4ebff;}#sk-container-id-5 div.sk-label input.sk-toggleable__control:checked~label.sk-toggleable__label {background-color: #d4ebff;}#sk-container-id-5 input.sk-hidden--visually {border: 0;clip: rect(1px 1px 1px 1px);clip: rect(1px, 1px, 1px, 1px);height: 1px;margin: -1px;overflow: hidden;padding: 0;position: absolute;width: 1px;}#sk-container-id-5 div.sk-estimator {font-family: monospace;background-color: #f0f8ff;border: 1px dotted black;border-radius: 0.25em;box-sizing: border-box;margin-bottom: 0.5em;}#sk-container-id-5 div.sk-estimator:hover {background-color: #d4ebff;}#sk-container-id-5 div.sk-parallel-item::after {content: \"\";width: 100%;border-bottom: 1px solid gray;flex-grow: 1;}#sk-container-id-5 div.sk-label:hover label.sk-toggleable__label {background-color: #d4ebff;}#sk-container-id-5 div.sk-serial::before {content: \"\";position: absolute;border-left: 1px solid gray;box-sizing: border-box;top: 0;bottom: 0;left: 50%;z-index: 0;}#sk-container-id-5 div.sk-serial {display: flex;flex-direction: column;align-items: center;background-color: white;padding-right: 0.2em;padding-left: 0.2em;position: relative;}#sk-container-id-5 div.sk-item {position: relative;z-index: 1;}#sk-container-id-5 div.sk-parallel {display: flex;align-items: stretch;justify-content: center;background-color: white;position: relative;}#sk-container-id-5 div.sk-item::before, #sk-container-id-5 div.sk-parallel-item::before {content: \"\";position: absolute;border-left: 1px solid gray;box-sizing: border-box;top: 0;bottom: 0;left: 50%;z-index: -1;}#sk-container-id-5 div.sk-parallel-item {display: flex;flex-direction: column;z-index: 1;position: relative;background-color: white;}#sk-container-id-5 div.sk-parallel-item:first-child::after {align-self: flex-end;width: 50%;}#sk-container-id-5 div.sk-parallel-item:last-child::after {align-self: flex-start;width: 50%;}#sk-container-id-5 div.sk-parallel-item:only-child::after {width: 0;}#sk-container-id-5 div.sk-dashed-wrapped {border: 1px dashed gray;margin: 0 0.4em 0.5em 0.4em;box-sizing: border-box;padding-bottom: 0.4em;background-color: white;}#sk-container-id-5 div.sk-label label {font-family: monospace;font-weight: bold;display: inline-block;line-height: 1.2em;}#sk-container-id-5 div.sk-label-container {text-align: center;}#sk-container-id-5 div.sk-container {/* jupyter's `normalize.less` sets `[hidden] { display: none; }` but bootstrap.min.css set `[hidden] { display: none !important; }` so we also need the `!important` here to be able to override the default hidden behavior on the sphinx rendered scikit-learn.org. See: https://github.com/scikit-learn/scikit-learn/issues/21755 */display: inline-block !important;position: relative;}#sk-container-id-5 div.sk-text-repr-fallback {display: none;}</style><div id=\"sk-container-id-5\" class=\"sk-top-container\"><div class=\"sk-text-repr-fallback\"><pre>RandomForestClassifier(max_depth=6, random_state=0)</pre><b>In a Jupyter environment, please rerun this cell to show the HTML representation or trust the notebook. <br />On GitHub, the HTML representation is unable to render, please try loading this page with nbviewer.org.</b></div><div class=\"sk-container\" hidden><div class=\"sk-item\"><div class=\"sk-estimator sk-toggleable\"><input class=\"sk-toggleable__control sk-hidden--visually\" id=\"sk-estimator-id-5\" type=\"checkbox\" checked><label for=\"sk-estimator-id-5\" class=\"sk-toggleable__label sk-toggleable__label-arrow\">RandomForestClassifier</label><div class=\"sk-toggleable__content\"><pre>RandomForestClassifier(max_depth=6, random_state=0)</pre></div></div></div></div></div>"
      ],
      "text/plain": [
       "RandomForestClassifier(max_depth=6, random_state=0)"
      ]
     },
     "execution_count": 106,
     "metadata": {},
     "output_type": "execute_result"
    }
   ],
   "source": [
    "clf.fit(x_train, y_train)"
   ]
  },
  {
   "cell_type": "code",
   "execution_count": 107,
   "metadata": {},
   "outputs": [
    {
     "data": {
      "text/plain": [
       "0.45"
      ]
     },
     "execution_count": 107,
     "metadata": {},
     "output_type": "execute_result"
    }
   ],
   "source": [
    "clf.score(x_test, y_test)"
   ]
  },
  {
   "cell_type": "code",
   "execution_count": 108,
   "metadata": {},
   "outputs": [
    {
     "data": {
      "text/plain": [
       "0.9935897435897436"
      ]
     },
     "execution_count": 108,
     "metadata": {},
     "output_type": "execute_result"
    }
   ],
   "source": [
    "clf.score(x_train, y_train)"
   ]
  },
  {
   "attachments": {},
   "cell_type": "markdown",
   "metadata": {},
   "source": [
    "### Hyper-parameter tuning"
   ]
  },
  {
   "cell_type": "code",
   "execution_count": 109,
   "metadata": {},
   "outputs": [
    {
     "name": "stdout",
     "output_type": "stream",
     "text": [
      "Fitting 3 folds for each of 288 candidates, totalling 864 fits\n"
     ]
    }
   ],
   "source": [
    "param_grid = {\n",
    "    'bootstrap': [True],\n",
    "    'max_depth': [6, 8, 10, 12],\n",
    "    'max_features': [2, 3],\n",
    "    'min_samples_leaf': [3, 4, 5],\n",
    "    'min_samples_split': [8, 10, 12],\n",
    "    'n_estimators': [100, 200, 300, 1000]\n",
    "}\n",
    "\n",
    "rf = RandomForestClassifier()\n",
    "grid_search = GridSearchCV(estimator=rf, param_grid=param_grid, cv=3, n_jobs=-1, verbose=2)\n",
    "grid_search.fit(x_train, y_train)\n",
    "grid_search.best_params_\n",
    "clf = grid_search.best_estimator_\n"
   ]
  },
  {
   "cell_type": "code",
   "execution_count": 110,
   "metadata": {},
   "outputs": [
    {
     "data": {
      "text/plain": [
       "{'bootstrap': True,\n",
       " 'max_depth': 10,\n",
       " 'max_features': 2,\n",
       " 'min_samples_leaf': 3,\n",
       " 'min_samples_split': 8,\n",
       " 'n_estimators': 100}"
      ]
     },
     "execution_count": 110,
     "metadata": {},
     "output_type": "execute_result"
    }
   ],
   "source": [
    "grid_search.best_params_"
   ]
  },
  {
   "cell_type": "code",
   "execution_count": 120,
   "metadata": {},
   "outputs": [
    {
     "data": {
      "text/plain": [
       "{'n_estimators': 1000,\n",
       " 'min_samples_split': 5,\n",
       " 'min_samples_leaf': 2,\n",
       " 'max_features': None,\n",
       " 'max_depth': None,\n",
       " 'bootstrap': False}"
      ]
     },
     "execution_count": 120,
     "metadata": {},
     "output_type": "execute_result"
    }
   ],
   "source": [
    "random_search.best_params_"
   ]
  },
  {
   "cell_type": "code",
   "execution_count": 111,
   "metadata": {},
   "outputs": [
    {
     "data": {
      "text/plain": [
       "0.5576923076923077"
      ]
     },
     "execution_count": 111,
     "metadata": {},
     "output_type": "execute_result"
    }
   ],
   "source": [
    "grid_search.best_score_"
   ]
  },
  {
   "cell_type": "code",
   "execution_count": 112,
   "metadata": {},
   "outputs": [
    {
     "data": {
      "text/plain": [
       "0.475"
      ]
     },
     "execution_count": 112,
     "metadata": {},
     "output_type": "execute_result"
    }
   ],
   "source": [
    "grid_search.score(x_test, y_test)"
   ]
  },
  {
   "cell_type": "code",
   "execution_count": 117,
   "metadata": {},
   "outputs": [
    {
     "name": "stdout",
     "output_type": "stream",
     "text": [
      "Fitting 3 folds for each of 100 candidates, totalling 300 fits\n"
     ]
    },
    {
     "data": {
      "text/plain": [
       "0.475"
      ]
     },
     "execution_count": 117,
     "metadata": {},
     "output_type": "execute_result"
    }
   ],
   "source": [
    "# random search cv\n",
    "\n",
    "from sklearn.model_selection import RandomizedSearchCV\n",
    "\n",
    "# Number of trees in random forest\n",
    "n_estimators = [int(x) for x in np.linspace(start=10, stop=1000, num=10)]\n",
    "# Number of features to consider at every split\n",
    "max_features = ['auto', 'sqrt', 'log2', None]\n",
    "# Maximum number of levels in tree\n",
    "max_depth = [int(x) for x in np.linspace(10, 100, num=10)]\n",
    "max_depth.append(None)\n",
    "# Minimum number of samples required to split a node\n",
    "min_samples_split = [2, 5, 10, 12]\n",
    "# Minimum number of samples required at each leaf node\n",
    "min_samples_leaf = [1, 2, 4, 6, 8, 10]\n",
    "# Method of selecting samples for training each tree\n",
    "bootstrap = [True, False]\n",
    "\n",
    "# Create the random grid\n",
    "random_grid = {\n",
    "    'n_estimators': n_estimators,\n",
    "    'max_features': max_features,\n",
    "    'max_depth': max_depth,\n",
    "    'min_samples_split': min_samples_split,\n",
    "    'min_samples_leaf': min_samples_leaf,\n",
    "    'bootstrap': bootstrap\n",
    "}\n",
    "\n",
    "rf = RandomForestClassifier()\n",
    "random_search = RandomizedSearchCV(estimator=rf, param_distributions=random_grid,\n",
    "                                   n_iter=100, cv=3, verbose=2, random_state=42,\n",
    "                                   n_jobs=-1)\n",
    "random_search.fit(x_train, y_train)\n",
    "random_search.best_params_\n",
    "clf = random_search.best_estimator_\n"
   ]
  },
  {
   "cell_type": "code",
   "execution_count": 118,
   "metadata": {},
   "outputs": [
    {
     "data": {
      "text/plain": [
       "0.6217948717948718"
      ]
     },
     "execution_count": 118,
     "metadata": {},
     "output_type": "execute_result"
    }
   ],
   "source": [
    "random_search.best_score_"
   ]
  },
  {
   "cell_type": "code",
   "execution_count": 119,
   "metadata": {},
   "outputs": [
    {
     "data": {
      "text/plain": [
       "0.475"
      ]
     },
     "execution_count": 119,
     "metadata": {},
     "output_type": "execute_result"
    }
   ],
   "source": [
    "clf.score(x_test, y_test)"
   ]
  },
  {
   "cell_type": "code",
   "execution_count": 113,
   "metadata": {},
   "outputs": [
    {
     "data": {
      "text/plain": [
       "40"
      ]
     },
     "execution_count": 113,
     "metadata": {},
     "output_type": "execute_result"
    }
   ],
   "source": [
    "len(x_test)"
   ]
  },
  {
   "attachments": {},
   "cell_type": "markdown",
   "metadata": {},
   "source": [
    "### Visuallizing feature importance"
   ]
  },
  {
   "cell_type": "code",
   "execution_count": 114,
   "metadata": {},
   "outputs": [],
   "source": [
    "feature_importances = pd.DataFrame(clf.feature_importances_, index = x_train.columns, columns=['importance']).sort_values('importance', ascending=False)"
   ]
  },
  {
   "cell_type": "code",
   "execution_count": 115,
   "metadata": {},
   "outputs": [
    {
     "data": {
      "text/html": [
       "<div>\n",
       "<style scoped>\n",
       "    .dataframe tbody tr th:only-of-type {\n",
       "        vertical-align: middle;\n",
       "    }\n",
       "\n",
       "    .dataframe tbody tr th {\n",
       "        vertical-align: top;\n",
       "    }\n",
       "\n",
       "    .dataframe thead th {\n",
       "        text-align: right;\n",
       "    }\n",
       "</style>\n",
       "<table border=\"1\" class=\"dataframe\">\n",
       "  <thead>\n",
       "    <tr style=\"text-align: right;\">\n",
       "      <th></th>\n",
       "      <th>importance</th>\n",
       "    </tr>\n",
       "  </thead>\n",
       "  <tbody>\n",
       "    <tr>\n",
       "      <th>rank_percentage_change_24h</th>\n",
       "      <td>0.120058</td>\n",
       "    </tr>\n",
       "    <tr>\n",
       "      <th>mentions_percentage_change_24h</th>\n",
       "      <td>0.103695</td>\n",
       "    </tr>\n",
       "    <tr>\n",
       "      <th>mentions</th>\n",
       "      <td>0.097361</td>\n",
       "    </tr>\n",
       "    <tr>\n",
       "      <th>mentioning_users</th>\n",
       "      <td>0.096011</td>\n",
       "    </tr>\n",
       "    <tr>\n",
       "      <th>revenue_growth_ttm_yoy</th>\n",
       "      <td>0.083421</td>\n",
       "    </tr>\n",
       "    <tr>\n",
       "      <th>sentiment</th>\n",
       "      <td>0.082564</td>\n",
       "    </tr>\n",
       "    <tr>\n",
       "      <th>upvotes</th>\n",
       "      <td>0.081763</td>\n",
       "    </tr>\n",
       "    <tr>\n",
       "      <th>price_to_equity_ttm</th>\n",
       "      <td>0.073560</td>\n",
       "    </tr>\n",
       "    <tr>\n",
       "      <th>beta</th>\n",
       "      <td>0.067531</td>\n",
       "    </tr>\n",
       "    <tr>\n",
       "      <th>earnings_per_share_ttm</th>\n",
       "      <td>0.064097</td>\n",
       "    </tr>\n",
       "    <tr>\n",
       "      <th>return_on_equity_ttm</th>\n",
       "      <td>0.053475</td>\n",
       "    </tr>\n",
       "    <tr>\n",
       "      <th>total_debt_to_equity_quarterly</th>\n",
       "      <td>0.043454</td>\n",
       "    </tr>\n",
       "    <tr>\n",
       "      <th>dividend_yield_annual</th>\n",
       "      <td>0.033010</td>\n",
       "    </tr>\n",
       "  </tbody>\n",
       "</table>\n",
       "</div>"
      ],
      "text/plain": [
       "                                importance\n",
       "rank_percentage_change_24h        0.120058\n",
       "mentions_percentage_change_24h    0.103695\n",
       "mentions                          0.097361\n",
       "mentioning_users                  0.096011\n",
       "revenue_growth_ttm_yoy            0.083421\n",
       "sentiment                         0.082564\n",
       "upvotes                           0.081763\n",
       "price_to_equity_ttm               0.073560\n",
       "beta                              0.067531\n",
       "earnings_per_share_ttm            0.064097\n",
       "return_on_equity_ttm              0.053475\n",
       "total_debt_to_equity_quarterly    0.043454\n",
       "dividend_yield_annual             0.033010"
      ]
     },
     "execution_count": 115,
     "metadata": {},
     "output_type": "execute_result"
    }
   ],
   "source": [
    "feature_importances"
   ]
  },
  {
   "cell_type": "code",
   "execution_count": 116,
   "metadata": {},
   "outputs": [
    {
     "data": {
      "image/png": "[encoded data removed]",
      "text/plain": [
       "<Figure size 640x480 with 1 Axes>"
      ]
     },
     "metadata": {},
     "output_type": "display_data"
    }
   ],
   "source": [
    "# visualize the most important features\n",
    "import matplotlib.pyplot as plt\n",
    "import seaborn as sns\n",
    "\n",
    "sns.barplot(x=feature_importances.index, y=feature_importances['importance'])\n",
    "plt.xticks(rotation=90)\n",
    "plt.show()"
   ]
  }
 ],
 "metadata": {
  "kernelspec": {
   "display_name": ".venv",
   "language": "python",
   "name": "python3"
  },
  "language_info": {
   "codemirror_mode": {
    "name": "ipython",
    "version": 3
   },
   "file_extension": ".py",
   "mimetype": "text/x-python",
   "name": "python",
   "nbconvert_exporter": "python",
   "pygments_lexer": "ipython3",
   "version": "3.10.0"
  },
  "orig_nbformat": 4
 },
 "nbformat": 4,
 "nbformat_minor": 2
}
